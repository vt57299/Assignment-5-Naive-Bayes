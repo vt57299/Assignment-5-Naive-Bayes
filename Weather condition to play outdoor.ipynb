{
 "cells": [
  {
   "cell_type": "markdown",
   "id": "7d9126f2",
   "metadata": {},
   "source": [
    "# Weather condition to play outdoor"
   ]
  },
  {
   "cell_type": "markdown",
   "id": "0bca6e90",
   "metadata": {},
   "source": [
    "# Problem statement"
   ]
  },
  {
   "cell_type": "markdown",
   "id": "8071046c",
   "metadata": {},
   "source": [
    "Suppose we have a dataset of weather conditions and the corresponding target variable \"Play\". So using this dataset we need to decide whether we should play or not on a particular day according to the weather conditions. So to solve this problem, we need to follow the below steps:\n",
    "\n",
    "\n",
    "\n",
    "1. Convert the given dataset into frequency tables.\n",
    "2. Generate a Likelihood table by finding the probabilities of given features.\n",
    "3. Now, use the Bayes theorem to calculate the posterior probability."
   ]
  },
  {
   "cell_type": "code",
   "execution_count": 1,
   "id": "e512b7de",
   "metadata": {},
   "outputs": [
    {
     "data": {
      "text/html": [
       "<div>\n",
       "<style scoped>\n",
       "    .dataframe tbody tr th:only-of-type {\n",
       "        vertical-align: middle;\n",
       "    }\n",
       "\n",
       "    .dataframe tbody tr th {\n",
       "        vertical-align: top;\n",
       "    }\n",
       "\n",
       "    .dataframe thead th {\n",
       "        text-align: right;\n",
       "    }\n",
       "</style>\n",
       "<table border=\"1\" class=\"dataframe\">\n",
       "  <thead>\n",
       "    <tr style=\"text-align: right;\">\n",
       "      <th></th>\n",
       "      <th>Weather</th>\n",
       "      <th>Play</th>\n",
       "    </tr>\n",
       "  </thead>\n",
       "  <tbody>\n",
       "    <tr>\n",
       "      <th>0</th>\n",
       "      <td>Rainy</td>\n",
       "      <td>Yes</td>\n",
       "    </tr>\n",
       "    <tr>\n",
       "      <th>1</th>\n",
       "      <td>Sunny</td>\n",
       "      <td>Yes</td>\n",
       "    </tr>\n",
       "    <tr>\n",
       "      <th>2</th>\n",
       "      <td>Overcast</td>\n",
       "      <td>Yes</td>\n",
       "    </tr>\n",
       "    <tr>\n",
       "      <th>3</th>\n",
       "      <td>Overcast</td>\n",
       "      <td>Yes</td>\n",
       "    </tr>\n",
       "    <tr>\n",
       "      <th>4</th>\n",
       "      <td>Sunny</td>\n",
       "      <td>No</td>\n",
       "    </tr>\n",
       "    <tr>\n",
       "      <th>5</th>\n",
       "      <td>Rainy</td>\n",
       "      <td>Yes</td>\n",
       "    </tr>\n",
       "    <tr>\n",
       "      <th>6</th>\n",
       "      <td>Sunny</td>\n",
       "      <td>Yes</td>\n",
       "    </tr>\n",
       "    <tr>\n",
       "      <th>7</th>\n",
       "      <td>Overcast</td>\n",
       "      <td>Yes</td>\n",
       "    </tr>\n",
       "    <tr>\n",
       "      <th>8</th>\n",
       "      <td>Rainy</td>\n",
       "      <td>No</td>\n",
       "    </tr>\n",
       "    <tr>\n",
       "      <th>9</th>\n",
       "      <td>Sunny</td>\n",
       "      <td>No</td>\n",
       "    </tr>\n",
       "    <tr>\n",
       "      <th>10</th>\n",
       "      <td>Sunny</td>\n",
       "      <td>Yes</td>\n",
       "    </tr>\n",
       "    <tr>\n",
       "      <th>11</th>\n",
       "      <td>Rainy</td>\n",
       "      <td>No</td>\n",
       "    </tr>\n",
       "    <tr>\n",
       "      <th>12</th>\n",
       "      <td>Overcast</td>\n",
       "      <td>Yes</td>\n",
       "    </tr>\n",
       "    <tr>\n",
       "      <th>13</th>\n",
       "      <td>Overcast</td>\n",
       "      <td>Yes</td>\n",
       "    </tr>\n",
       "  </tbody>\n",
       "</table>\n",
       "</div>"
      ],
      "text/plain": [
       "     Weather Play\n",
       "0      Rainy  Yes\n",
       "1      Sunny  Yes\n",
       "2   Overcast  Yes\n",
       "3   Overcast  Yes\n",
       "4      Sunny   No\n",
       "5      Rainy  Yes\n",
       "6      Sunny  Yes\n",
       "7   Overcast  Yes\n",
       "8      Rainy   No\n",
       "9      Sunny   No\n",
       "10     Sunny  Yes\n",
       "11     Rainy   No\n",
       "12  Overcast  Yes\n",
       "13  Overcast  Yes"
      ]
     },
     "execution_count": 1,
     "metadata": {},
     "output_type": "execute_result"
    }
   ],
   "source": [
    "import pandas as pd\n",
    "data = pd.DataFrame({\n",
    "    'Weather': ['Rainy','Sunny', 'Overcast','Overcast','Sunny','Rainy','Sunny','Overcast','Rainy','Sunny','Sunny','Rainy','Overcast','Overcast']\n",
    "                ,\n",
    "    'Play': ['Yes','Yes',\"Yes\",'Yes','No','Yes','Yes','Yes','No','No','Yes','No','Yes','Yes']})\n",
    "data"
   ]
  },
  {
   "cell_type": "markdown",
   "id": "67462276",
   "metadata": {},
   "source": [
    "# Frequency Tables"
   ]
  },
  {
   "cell_type": "code",
   "execution_count": 2,
   "id": "4323ccf2",
   "metadata": {},
   "outputs": [],
   "source": [
    "weather_freq = data['Weather'].value_counts()\n",
    "play_freq = data['Play'].value_counts()"
   ]
  },
  {
   "cell_type": "code",
   "execution_count": 3,
   "id": "acf78285",
   "metadata": {},
   "outputs": [
    {
     "name": "stdout",
     "output_type": "stream",
     "text": [
      "Sunny       5\n",
      "Overcast    5\n",
      "Rainy       4\n",
      "Name: Weather, dtype: int64 \n",
      "\n",
      " Yes    10\n",
      "No      4\n",
      "Name: Play, dtype: int64\n"
     ]
    }
   ],
   "source": [
    "print(weather_freq,'\\n\\n',play_freq)"
   ]
  },
  {
   "cell_type": "markdown",
   "id": "97be7ed2",
   "metadata": {},
   "source": [
    "# likelihood table | conditional proablity"
   ]
  },
  {
   "cell_type": "code",
   "execution_count": 4,
   "id": "dced3365",
   "metadata": {},
   "outputs": [
    {
     "data": {
      "text/html": [
       "<div>\n",
       "<style scoped>\n",
       "    .dataframe tbody tr th:only-of-type {\n",
       "        vertical-align: middle;\n",
       "    }\n",
       "\n",
       "    .dataframe tbody tr th {\n",
       "        vertical-align: top;\n",
       "    }\n",
       "\n",
       "    .dataframe thead th {\n",
       "        text-align: right;\n",
       "    }\n",
       "</style>\n",
       "<table border=\"1\" class=\"dataframe\">\n",
       "  <thead>\n",
       "    <tr style=\"text-align: right;\">\n",
       "      <th>Play</th>\n",
       "      <th>No</th>\n",
       "      <th>Yes</th>\n",
       "    </tr>\n",
       "    <tr>\n",
       "      <th>Weather</th>\n",
       "      <th></th>\n",
       "      <th></th>\n",
       "    </tr>\n",
       "  </thead>\n",
       "  <tbody>\n",
       "    <tr>\n",
       "      <th>Overcast</th>\n",
       "      <td>0.0</td>\n",
       "      <td>1.0</td>\n",
       "    </tr>\n",
       "    <tr>\n",
       "      <th>Rainy</th>\n",
       "      <td>0.5</td>\n",
       "      <td>0.5</td>\n",
       "    </tr>\n",
       "    <tr>\n",
       "      <th>Sunny</th>\n",
       "      <td>0.4</td>\n",
       "      <td>0.6</td>\n",
       "    </tr>\n",
       "  </tbody>\n",
       "</table>\n",
       "</div>"
      ],
      "text/plain": [
       "Play       No  Yes\n",
       "Weather           \n",
       "Overcast  0.0  1.0\n",
       "Rainy     0.5  0.5\n",
       "Sunny     0.4  0.6"
      ]
     },
     "execution_count": 4,
     "metadata": {},
     "output_type": "execute_result"
    }
   ],
   "source": [
    "likelihood_table = pd.crosstab(data['Weather'],data['Play'],normalize= 'index')\n",
    "likelihood_table"
   ]
  },
  {
   "cell_type": "markdown",
   "id": "b556820a",
   "metadata": {},
   "source": [
    "# Prior Probablity of playing outside"
   ]
  },
  {
   "cell_type": "code",
   "execution_count": 5,
   "id": "31e35209",
   "metadata": {},
   "outputs": [],
   "source": [
    "prior_play_yes = play_freq['Yes']/len(data)                   \n",
    "prior_play_no = play_freq['No']/len(data)"
   ]
  },
  {
   "cell_type": "markdown",
   "id": "05eac334",
   "metadata": {},
   "source": [
    "# P(A)"
   ]
  },
  {
   "cell_type": "code",
   "execution_count": 6,
   "id": "41075db0",
   "metadata": {},
   "outputs": [
    {
     "data": {
      "text/plain": [
       "0.7142857142857143"
      ]
     },
     "execution_count": 6,
     "metadata": {},
     "output_type": "execute_result"
    }
   ],
   "source": [
    "prior_play_yes"
   ]
  },
  {
   "cell_type": "markdown",
   "id": "f974fb8b",
   "metadata": {},
   "source": [
    "# evidence   | P(B)"
   ]
  },
  {
   "cell_type": "code",
   "execution_count": 7,
   "id": "df26c0c0",
   "metadata": {},
   "outputs": [],
   "source": [
    "evidence =  likelihood_table.multiply(prior_play_yes, axis=1).sum(axis = 0)"
   ]
  },
  {
   "cell_type": "markdown",
   "id": "079fb4bc",
   "metadata": {},
   "source": [
    "# Posterior Probablity"
   ]
  },
  {
   "cell_type": "code",
   "execution_count": 8,
   "id": "ef84ed85",
   "metadata": {},
   "outputs": [],
   "source": [
    "post_prob_yes_sunny = (likelihood_table.loc['Sunny','Yes'] * prior_play_yes) / evidence['Yes']\n",
    "post_prob_yes_overcast = (likelihood_table.loc['Overcast','Yes'] * prior_play_yes) / evidence['Yes']\n",
    "post_prob_yes_rainy = (likelihood_table.loc['Rainy','Yes'] * prior_play_yes) / evidence['Yes']"
   ]
  },
  {
   "cell_type": "markdown",
   "id": "a8f37dab",
   "metadata": {},
   "source": [
    "# Result"
   ]
  },
  {
   "cell_type": "code",
   "execution_count": 9,
   "id": "9d6ce8de",
   "metadata": {},
   "outputs": [
    {
     "name": "stdout",
     "output_type": "stream",
     "text": [
      "Posterior probabilities:\n",
      "P(Play = Yes | Weather = Sunny): 0.2857142857142857\n",
      "P(Play = Yes | Weather = Overcast): 0.4761904761904762\n",
      "P(Play = Yes | Weather = Rainy): 0.2380952380952381\n"
     ]
    }
   ],
   "source": [
    "print(\"Posterior probabilities:\")\n",
    "print(\"P(Play = Yes | Weather = Sunny):\", post_prob_yes_sunny)\n",
    "print(\"P(Play = Yes | Weather = Overcast):\", post_prob_yes_overcast)\n",
    "print(\"P(Play = Yes | Weather = Rainy):\", post_prob_yes_rainy)"
   ]
  }
 ],
 "metadata": {
  "kernelspec": {
   "display_name": "Python 3 (ipykernel)",
   "language": "python",
   "name": "python3"
  },
  "language_info": {
   "codemirror_mode": {
    "name": "ipython",
    "version": 3
   },
   "file_extension": ".py",
   "mimetype": "text/x-python",
   "name": "python",
   "nbconvert_exporter": "python",
   "pygments_lexer": "ipython3",
   "version": "3.10.9"
  }
 },
 "nbformat": 4,
 "nbformat_minor": 5
}
